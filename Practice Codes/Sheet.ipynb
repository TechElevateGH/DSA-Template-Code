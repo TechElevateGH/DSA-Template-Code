{
 "cells": [
  {
   "cell_type": "code",
   "execution_count": 1,
   "metadata": {},
   "outputs": [
    {
     "name": "stdout",
     "output_type": "stream",
     "text": [
      "[1, 3, 9]\n"
     ]
    }
   ],
   "source": [
    "#USING SORTED\n",
    "\n",
    "a = sorted([1, 9, 3])\n",
    "\n",
    "b = sorted([3,2])\n",
    "\n",
    "print(a)"
   ]
  },
  {
   "cell_type": "code",
   "execution_count": 11,
   "metadata": {},
   "outputs": [
    {
     "data": {
      "text/plain": [
       "'((1, 2), (3, 4), (5, 4), (7, 8))'"
      ]
     },
     "execution_count": 11,
     "metadata": {},
     "output_type": "execute_result"
    }
   ],
   "source": [
    "#USING ZIP\n",
    "\n",
    "l1 = [1, 3, 5, 7]\n",
    "l2 = [2, 4, 4, 8]\n",
    "\n",
    "l = tuple(zip(l1, l2))\n",
    "#list(l)\n",
    "#set(l)\n",
    "#str(l)"
   ]
  },
  {
   "cell_type": "code",
   "execution_count": 26,
   "metadata": {},
   "outputs": [],
   "source": [
    "#SETTING A RANGE EXPRESSION TO A VARIABLE\n",
    "\n",
    "alist = (range(10))\n",
    "#[range]\n",
    "#{range} Set is not suscriptable"
   ]
  },
  {
   "cell_type": "code",
   "execution_count": 1,
   "metadata": {
    "scrolled": false
   },
   "outputs": [
    {
     "ename": "NameError",
     "evalue": "name 'alist' is not defined",
     "output_type": "error",
     "traceback": [
      "\u001b[0;31m---------------------------------------------------------------------------\u001b[0m",
      "\u001b[0;31mNameError\u001b[0m                                 Traceback (most recent call last)",
      "\u001b[1;32m/Users/cornelius/Library/Mobile Documents/com~apple~CloudDocs/CS/Practice Codes/Sheet.ipynb Cell 4'\u001b[0m in \u001b[0;36m<cell line: 1>\u001b[0;34m()\u001b[0m\n\u001b[0;32m----> <a href='vscode-notebook-cell:/Users/cornelius/Library/Mobile%20Documents/com~apple~CloudDocs/CS/Practice%20Codes/Sheet.ipynb#ch0000003?line=0'>1</a>\u001b[0m \u001b[39mprint\u001b[39m(\u001b[39mlist\u001b[39m(alist))\n\u001b[1;32m      <a href='vscode-notebook-cell:/Users/cornelius/Library/Mobile%20Documents/com~apple~CloudDocs/CS/Practice%20Codes/Sheet.ipynb#ch0000003?line=1'>2</a>\u001b[0m alist[\u001b[39m0\u001b[39m]\n",
      "\u001b[0;31mNameError\u001b[0m: name 'alist' is not defined"
     ]
    }
   ],
   "source": [
    "print(list(alist))\n",
    "alist[0]"
   ]
  },
  {
   "cell_type": "code",
   "execution_count": null,
   "metadata": {},
   "outputs": [],
   "source": [
    "#Sets are not subscriptable "
   ]
  },
  {
   "cell_type": "code",
   "execution_count": 1,
   "metadata": {},
   "outputs": [
    {
     "name": "stdout",
     "output_type": "stream",
     "text": [
      "yayy\n"
     ]
    }
   ],
   "source": [
    "\n",
    "a = 'i'\n",
    "\n",
    "b = 'i am coming home'\n",
    "\n",
    "if b.startswith(a):\n",
    "    print('yayy')\n",
    "else:\n",
    "    print('nope')"
   ]
  },
  {
   "cell_type": "code",
   "execution_count": 3,
   "metadata": {},
   "outputs": [
    {
     "name": "stdout",
     "output_type": "stream",
     "text": [
      "True\n"
     ]
    }
   ],
   "source": [
    "class Stack(object):\n",
    "    \n",
    "    def __init__(self):\n",
    "        self.data = []\n",
    "    \n",
    "    def push(self, value):\n",
    "        self.data.append(value)\n",
    "        \n",
    "    def pop(self):\n",
    "        if self.data:\n",
    "            value = self.data.pop()\n",
    "            return value\n",
    "        \n",
    "def linter(s):\n",
    "    \n",
    "    start = {'(', '{', '['}\n",
    "    end = {']', '}', ')'}\n",
    "    my_set = {'[]', '{}', '()'}\n",
    "    my_stack = Stack()\n",
    "    \n",
    "    for i in s:\n",
    "        \n",
    "        if i in start:\n",
    "            \n",
    "            if i in start:\n",
    "                my_stack.push(i)\n",
    "            \n",
    "        elif i in end:\n",
    "            if (my_stack.pop() + i) not in my_set :\n",
    "                return False\n",
    "    \n",
    "    if my_stack.pop():\n",
    "        return False\n",
    "        \n",
    "    return True\n",
    "    \n",
    "print(linter('()'))\n",
    "    \n",
    "    "
   ]
  },
  {
   "cell_type": "code",
   "execution_count": 4,
   "metadata": {},
   "outputs": [
    {
     "data": {
      "text/plain": [
       "'\\n    In linked list cycles, the node at which the fast pointer equals the slow pointer is not the node\\n    at which the cycle occurs. The fast and slow pointers can meet at any node within the cycle.\\n\\n    The length of the cycle can be found by finding the node at which the pointers meet. And having \\n    another pointer to move from that node to that same point of intersection.\\n\\n    The node at which the cycle starts can be found by moving a temp node from the head and moving \\n    the slow node at the point of intersection till they meet.\\n\\n'"
      ]
     },
     "execution_count": 4,
     "metadata": {},
     "output_type": "execute_result"
    }
   ],
   "source": [
    "'''\n",
    "    In linked list cycles, the node at which the fast pointer equals the slow pointer is not the node\n",
    "    at which the cycle occurs. The fast and slow pointers can meet at any node within the cycle.\n",
    "\n",
    "    The length of the cycle can be found by finding the node at which the pointers meet. And having \n",
    "    another pointer to move from that node to that same point of intersection.\n",
    "\n",
    "    The node at which the cycle starts can be found by moving a temp node from the head and moving \n",
    "    the slow node at the point of intersection till they meet.\n",
    "\n",
    "'''"
   ]
  },
  {
   "cell_type": "code",
   "execution_count": 1,
   "metadata": {},
   "outputs": [
    {
     "name": "stdout",
     "output_type": "stream",
     "text": [
      "2\n",
      "1\n",
      "0\n",
      "2\n",
      "1\n",
      "0\n"
     ]
    }
   ],
   "source": [
    "\n",
    "nums = [2, 3, 1]\n",
    "\n",
    "for i in reversed(range(len(nums))):\n",
    "    print (i)\n",
    "\n",
    "for i in range(len(nums)-1, -1, -1):\n",
    "    print (i)"
   ]
  },
  {
   "cell_type": "code",
   "execution_count": 2,
   "metadata": {},
   "outputs": [],
   "source": [
    "\n",
    "# import heapq\n",
    "# heapq.heapify converts a list to a heap and the element with the most priority will stay at the top\n",
    "# heapq.heappop removes the element with the most priority from the queue.\n",
    "\n",
    "# import collections\n",
    "# collections.defaultdict(list) creates a dictionary of list values. \n",
    "# Values are just appended to the list.\n"
   ]
  },
  {
   "cell_type": "code",
   "execution_count": 1,
   "metadata": {},
   "outputs": [],
   "source": [
    "# Elements in the diagonals of a matrix have a constant (row - col)"
   ]
  },
  {
   "cell_type": "code",
   "execution_count": 11,
   "metadata": {},
   "outputs": [
    {
     "name": "stdout",
     "output_type": "stream",
     "text": [
      "[2, 2, 2, 2, 4, 6, 2, 6, 5]\n",
      "5\n",
      "[2, 2, 2, 2, 4, 6, 2, 6]\n"
     ]
    }
   ],
   "source": [
    "import heapq\n",
    "arr = [2, 4, 2, 5, 2, 6, 2, 6, 2]\n",
    "heapq.heapify(arr)\n",
    "\n",
    "print(arr)\n",
    "print(arr.pop())\n",
    "print(arr)"
   ]
  },
  {
   "cell_type": "code",
   "execution_count": null,
   "metadata": {},
   "outputs": [],
   "source": []
  }
 ],
 "metadata": {
  "interpreter": {
   "hash": "b59f586909a095034ce92f267140d201ae05951e630cf0a096f13c3bfeef0a02"
  },
  "kernelspec": {
   "display_name": "Python 3.9.12 ('base')",
   "language": "python",
   "name": "python3"
  },
  "language_info": {
   "codemirror_mode": {
    "name": "ipython",
    "version": 3
   },
   "file_extension": ".py",
   "mimetype": "text/x-python",
   "name": "python",
   "nbconvert_exporter": "python",
   "pygments_lexer": "ipython3",
   "version": "3.9.12"
  }
 },
 "nbformat": 4,
 "nbformat_minor": 4
}
