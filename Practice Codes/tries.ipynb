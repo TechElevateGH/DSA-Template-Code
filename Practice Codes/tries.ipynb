{
 "cells": [
  {
   "cell_type": "code",
   "execution_count": 1,
   "metadata": {},
   "outputs": [
    {
     "data": {
      "text/plain": [
       "'\\nTrie could use less space compared to Hash Table when storing many keys with the same prefix.\\nIn this case using trie has only O(m) time complexity, where m is the key length. \\nSearching for a key in a balanced trie costs O(mlogn) time complexity.\\n'"
      ]
     },
     "execution_count": 1,
     "metadata": {},
     "output_type": "execute_result"
    }
   ],
   "source": [
    "'''\n",
    "Trie could use less space compared to Hash Table when storing many keys with the same prefix.\n",
    "In this case using trie has only O(m) time complexity, where m is the key length. \n",
    "Searching for a key in a balanced trie costs O(mlogn) time complexity.\n",
    "'''"
   ]
  },
  {
   "cell_type": "code",
   "execution_count": null,
   "metadata": {},
   "outputs": [],
   "source": []
  }
 ],
 "metadata": {
  "interpreter": {
   "hash": "b59f586909a095034ce92f267140d201ae05951e630cf0a096f13c3bfeef0a02"
  },
  "kernelspec": {
   "display_name": "Python 3.9.12 ('base')",
   "language": "python",
   "name": "python3"
  },
  "language_info": {
   "codemirror_mode": {
    "name": "ipython",
    "version": 3
   },
   "file_extension": ".py",
   "mimetype": "text/x-python",
   "name": "python",
   "nbconvert_exporter": "python",
   "pygments_lexer": "ipython3",
   "version": "3.9.12"
  },
  "orig_nbformat": 4
 },
 "nbformat": 4,
 "nbformat_minor": 2
}
