{
 "cells": [
  {
   "cell_type": "code",
   "execution_count": 1,
   "metadata": {},
   "outputs": [],
   "source": [
    "def large_cont_sum(num_list):\n",
    "    \n",
    "    if len(num_list) == 0:\n",
    "        return None\n",
    "    \n",
    "    max_sum = num_list[0]\n",
    "    curr_sum = num_list[0]\n",
    "    \n",
    "    for num in num_list[1:]:\n",
    "        \n",
    "        curr_sum = max(curr_sum+num, num)\n",
    "        max_sum = max(curr_sum, max_sum)\n",
    "        \n",
    "    return max_sum\n",
    "\n",
    "[-2,1,-3,4,-1,2,1,-5,4]"
   ]
  },
  {
   "cell_type": "code",
   "execution_count": 3,
   "metadata": {},
   "outputs": [
    {
     "data": {
      "text/plain": [
       "-3"
      ]
     },
     "execution_count": 3,
     "metadata": {},
     "output_type": "execute_result"
    }
   ],
   "source": [
    "large_cont_sum([-3])"
   ]
  },
  {
   "cell_type": "code",
   "execution_count": 10,
   "metadata": {},
   "outputs": [
    {
     "name": "stdout",
     "output_type": "stream",
     "text": [
      "best the is This \n"
     ]
    }
   ],
   "source": [
    "def reverse(s):\n",
    "    \n",
    "    pos = s.find(' ')\n",
    "    \n",
    "    if pos == -1:\n",
    "        return (s)\n",
    "    \n",
    "    left = reverse(s[:pos])\n",
    "    right = reverse(s[pos:].strip())\n",
    "    \n",
    "    return right.strip() + ' ' + left.strip()\n",
    "\n",
    "\n",
    "\n"
   ]
  },
  {
   "cell_type": "code",
   "execution_count": 11,
   "metadata": {},
   "outputs": [
    {
     "data": {
      "text/plain": [
       "'Home Coming'"
      ]
     },
     "execution_count": 11,
     "metadata": {},
     "output_type": "execute_result"
    }
   ],
   "source": [
    "reverse('Coming Home')"
   ]
  },
  {
   "cell_type": "code",
   "execution_count": 13,
   "metadata": {},
   "outputs": [],
   "source": [
    "\n",
    "def compressAll(s):\n",
    "    \n",
    "    res = {}\n",
    "    res_str = ''\n",
    "    \n",
    "    for i in s:\n",
    "        \n",
    "        if i in res:\n",
    "            res[i] += 1\n",
    "        else:\n",
    "            res[i] = 1\n",
    "    \n",
    "    for i in res:\n",
    "        res_str = res_str + i + str(res[i])\n",
    "        \n",
    "    return res_str\n",
    "    "
   ]
  },
  {
   "cell_type": "code",
   "execution_count": 26,
   "metadata": {},
   "outputs": [
    {
     "data": {
      "text/plain": [
       "'A3a4b1a1'"
      ]
     },
     "execution_count": 26,
     "metadata": {},
     "output_type": "execute_result"
    }
   ],
   "source": [
    "compress('AAAaaaaba')"
   ]
  },
  {
   "cell_type": "code",
   "execution_count": 15,
   "metadata": {},
   "outputs": [],
   "source": [
    "\n",
    "def compress(s):\n",
    "    \n",
    "    res = ''\n",
    "    res_str = ''\n",
    "    count = 1\n",
    "    \n",
    "    for i in range(1, len(s)):\n",
    "        letter = s[i]\n",
    "        if s[i] == s[i-1]:\n",
    "            count += 1 \n",
    "            \n",
    "        else:\n",
    "            res = res + s[i-1] + str(count)\n",
    "            count = 1\n",
    "            \n",
    "    \n",
    "    \n",
    "    return res + s[-1] + str(count)\n",
    "    "
   ]
  },
  {
   "cell_type": "code",
   "execution_count": 27,
   "metadata": {},
   "outputs": [
    {
     "data": {
      "text/plain": [
       "'t1e1l2 1t1h1e1 1w1o1r1l1d1 1t1h1a1t1 1I1 1a1m1 1c1o1m1i1n1g1 1h1o1m1e1'"
      ]
     },
     "execution_count": 27,
     "metadata": {},
     "output_type": "execute_result"
    }
   ],
   "source": [
    "compress('tell the world that I am coming home')"
   ]
  },
  {
   "cell_type": "code",
   "execution_count": 18,
   "metadata": {},
   "outputs": [
    {
     "name": "stdout",
     "output_type": "stream",
     "text": [
      "False\n"
     ]
    }
   ],
   "source": [
    "def unique1(s):\n",
    "    \n",
    "    count = {}\n",
    "    \n",
    "    if s == '':\n",
    "        return True\n",
    "    \n",
    "    for i in s:\n",
    "        if i in count:\n",
    "            count[i] += 1\n",
    "        else:\n",
    "            count[i] = 1\n",
    "    \n",
    "    for i in count:\n",
    "        if count[i] != 1:\n",
    "            return False\n",
    "            \n",
    "    return True\n",
    "\n"
   ]
  },
  {
   "cell_type": "code",
   "execution_count": 19,
   "metadata": {},
   "outputs": [
    {
     "name": "stdout",
     "output_type": "stream",
     "text": [
      "False\n"
     ]
    }
   ],
   "source": [
    "print(unique1('cominghome'))"
   ]
  },
  {
   "cell_type": "code",
   "execution_count": 22,
   "metadata": {},
   "outputs": [
    {
     "name": "stdout",
     "output_type": "stream",
     "text": [
      "False\n"
     ]
    }
   ],
   "source": [
    "def unique(s):\n",
    "    \n",
    "    my_set = set()\n",
    "    \n",
    "    for i in s:\n",
    "        \n",
    "        if i in my_set:\n",
    "            return False\n",
    "        else:\n",
    "            my_set.add(i)\n",
    "    \n",
    "    return True\n",
    "\n",
    "\n"
   ]
  },
  {
   "cell_type": "code",
   "execution_count": 28,
   "metadata": {},
   "outputs": [
    {
     "name": "stdout",
     "output_type": "stream",
     "text": [
      "False\n"
     ]
    }
   ],
   "source": [
    "print(unique('coming home'))"
   ]
  },
  {
   "cell_type": "code",
   "execution_count": 29,
   "metadata": {},
   "outputs": [
    {
     "name": "stdout",
     "output_type": "stream",
     "text": [
      "home coming\n"
     ]
    }
   ],
   "source": [
    "\n",
    "#Reverse a list into a string\n",
    "def rev(alist):\n",
    "    \n",
    "    res = ''\n",
    "    \n",
    "    for i in alist:\n",
    "        res = i + ' ' + res\n",
    "        \n",
    "    return res.strip()\n",
    "    \n",
    "print(rev(['coming','home']))"
   ]
  },
  {
   "cell_type": "code",
   "execution_count": 30,
   "metadata": {},
   "outputs": [
    {
     "data": {
      "text/plain": [
       "'name my'"
      ]
     },
     "execution_count": 30,
     "metadata": {},
     "output_type": "execute_result"
    }
   ],
   "source": [
    "rev(['my', 'name'])"
   ]
  },
  {
   "cell_type": "code",
   "execution_count": null,
   "metadata": {},
   "outputs": [],
   "source": []
  }
 ],
 "metadata": {
  "kernelspec": {
   "display_name": "Python 3",
   "language": "python",
   "name": "python3"
  },
  "language_info": {
   "codemirror_mode": {
    "name": "ipython",
    "version": 3
   },
   "file_extension": ".py",
   "mimetype": "text/x-python",
   "name": "python",
   "nbconvert_exporter": "python",
   "pygments_lexer": "ipython3",
   "version": "3.8.5"
  }
 },
 "nbformat": 4,
 "nbformat_minor": 4
}