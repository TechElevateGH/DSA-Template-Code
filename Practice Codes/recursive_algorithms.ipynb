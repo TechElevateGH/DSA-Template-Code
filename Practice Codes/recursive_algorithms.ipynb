{
 "cells": [
  {
   "cell_type": "code",
   "execution_count": 9,
   "metadata": {},
   "outputs": [],
   "source": [
    "\n",
    "def partition(arr, left, right):\n",
    "\n",
    "    # Select the pivot: the rightmost element\n",
    "    pivot_index = right\n",
    "    right -= 1\n",
    "\n",
    "    # Tack the pivot element to compare with the other elements of the array\n",
    "    pivot = arr[pivot_index]\n",
    "\n",
    "\n",
    "    while True:\n",
    "\n",
    "        # If the el at left is less than pivot proceed\n",
    "        while arr[left] < pivot:\n",
    "            left += 1\n",
    "        \n",
    "        # If the el at right is greater than pivot, proceed\n",
    "        while arr[right] > pivot:\n",
    "            right -= 1\n",
    "\n",
    "        # Break out when left and right meet or left is greater than right\n",
    "        #Left will be at the NEEDED pivot\n",
    "        if left >= right:\n",
    "            break\n",
    "        \n",
    "        else:\n",
    "            # When the pointers stop moving but left is not greater than or equal to pivot\n",
    "            # Happens when left meets a value greater than pivot and right meets a value less than pivot\n",
    "            arr[left], arr[right] = arr[right], arr[left]\n",
    "            left += 1\n",
    "    \n",
    "    # Swap the element at the pivot index with the element at the left index\n",
    "    arr[left], arr[pivot_index] = arr[pivot_index], arr[left]\n",
    "\n",
    "    return left\n",
    "\n",
    "\n"
   ]
  },
  {
   "cell_type": "code",
   "execution_count": 14,
   "metadata": {},
   "outputs": [
    {
     "name": "stdout",
     "output_type": "stream",
     "text": [
      "[0, 1, 2, 3, 5, 6]\n"
     ]
    }
   ],
   "source": [
    "\n",
    "def quick_sort(arr, left, right):\n",
    "    \n",
    "    if right - left <= 0:\n",
    "        return\n",
    "    \n",
    "    pivot_index = partition(arr, left, right)\n",
    "\n",
    "    quick_sort(arr, left, pivot_index-1)\n",
    "    quick_sort(arr, pivot_index+1, right)\n",
    "\n",
    "\n",
    "a = [0, 5, 2, 1, 6, 3]\n",
    "quick_sort(a, 0, 5)\n",
    "print(a)"
   ]
  },
  {
   "cell_type": "code",
   "execution_count": null,
   "metadata": {},
   "outputs": [],
   "source": [
    "\n",
    "def quick_select(arr, left, right, nth_lowest):\n",
    "\n",
    "    if right - left <= 0:\n",
    "        return arr[left]\n",
    "    \n",
    "    pivot_index = partition(arr, left, right)\n",
    "\n",
    "    if nth_lowest < pivot_index:\n",
    "        quick_select(arr, left, pivot_index-1, nth_lowest)\n",
    "    \n",
    "    elif nth_lowest > pivot_index:\n",
    "        quick_select(arr, pivot_index + 1, right, nth_lowest)\n",
    "    \n",
    "    else:\n",
    "        return arr[pivot_index]\n",
    "    \n",
    "\n",
    "\n",
    "\n",
    "    "
   ]
  },
  {
   "cell_type": "code",
   "execution_count": 12,
   "metadata": {},
   "outputs": [
    {
     "name": "stdout",
     "output_type": "stream",
     "text": [
      "[17, 20, 26, 31, 44, 54, 55, 77, 93]\n"
     ]
    }
   ],
   "source": [
    "\n",
    "def mergeSort(myList):\n",
    "    if len(myList) > 1:\n",
    "        mid = len(myList) // 2\n",
    "        left = myList[:mid]\n",
    "        right = myList[mid:]\n",
    "\n",
    "        # Recursive call on each half\n",
    "        mergeSort(left)\n",
    "        mergeSort(right)\n",
    "\n",
    "        # Two iterators for traversing the two halves\n",
    "        i = 0\n",
    "        j = 0\n",
    "        \n",
    "        # Iterator for the main list\n",
    "        k = 0\n",
    "        \n",
    "        while i < len(left) and j < len(right):\n",
    "            if left[i] <= right[j]:\n",
    "              # The value from the left half has been used\n",
    "              myList[k] = left[i]\n",
    "              # Move the iterator forward\n",
    "              i += 1\n",
    "            else:\n",
    "                myList[k] = right[j]\n",
    "                j += 1\n",
    "            # Move to the next slot\n",
    "            k += 1\n",
    "\n",
    "        # For all the remaining values\n",
    "        while i < len(left):\n",
    "            myList[k] = left[i]\n",
    "            i += 1\n",
    "            k += 1\n",
    "\n",
    "        while j < len(right):\n",
    "            myList[k]=right[j]\n",
    "            j += 1\n",
    "            k += 1\n",
    "\n",
    "myList = [54,26,93,17,77,31,44,55,20]\n",
    "mergeSort(myList)\n",
    "print(myList)"
   ]
  },
  {
   "cell_type": "code",
   "execution_count": null,
   "metadata": {},
   "outputs": [],
   "source": []
  }
 ],
 "metadata": {
  "interpreter": {
   "hash": "dca0ade3e726a953b501b15e8e990130d2b7799f14cfd9f4271676035ebe5511"
  },
  "kernelspec": {
   "display_name": "Python 3.8.8 64-bit ('base': conda)",
   "name": "python3"
  },
  "language_info": {
   "codemirror_mode": {
    "name": "ipython",
    "version": 3
   },
   "file_extension": ".py",
   "mimetype": "text/x-python",
   "name": "python",
   "nbconvert_exporter": "python",
   "pygments_lexer": "ipython3",
   "version": "3.8.8"
  },
  "orig_nbformat": 4
 },
 "nbformat": 4,
 "nbformat_minor": 2
}