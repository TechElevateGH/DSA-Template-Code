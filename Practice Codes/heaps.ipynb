{
 "cells": [
  {
   "cell_type": "code",
   "execution_count": null,
   "metadata": {},
   "outputs": [],
   "source": [
    "class Node:\n",
    "\n",
    "    def __init__(self, val):\n",
    "        self.val = val\n",
    "        self.left = None\n",
    "        self.right = None\n",
    "\n",
    "class Heap:\n",
    "\n",
    "    def __init__(self):\n",
    "        self.data = []\n",
    "    \n",
    "    def root_node(self):\n",
    "        if self.data: return self.data[0]\n",
    "        return None\n",
    "    \n",
    "    def last_node(self):\n",
    "        if self.data: return self.data[-1]\n",
    "        return None\n",
    "    \n",
    "    def left_child_index(self, index):\n",
    "        # Accepts the index of the node and returns the index of its left child\n",
    "        return (index * 2 + 1)\n",
    "    \n",
    "    def right_child_index(self, index):\n",
    "        # Accepts the index of the node and returns the index of its right child\n",
    "        return (index * 2 + 2)\n",
    "    \n",
    "    def parent_index(self, index):\n",
    "        # Accepts the index and calculates the index of the parent node\n",
    "        return (index -1) // 2\n",
    "    \n",
    "    def insert(self, value):\n",
    "        # Add the value to the heap array\n",
    "        self.data.append(value)\n",
    "\n",
    "        # Store the index of the current last node for trickling up\n",
    "        new_node_index = len(self.data) - 1\n",
    "\n",
    "        # Execute loop if the value at the new_node_index is greater than its parent and it is not the max / root value\n",
    "        while new_node_index > 0 and self.data[new_node_index] > self.data[self.parent_index(new_node_index)]:\n",
    "            self.data[new_node_index], self.data[self.parent_index(new_node_index)] = self.data[self.parent_index(new_node_index)], self.data[new_node_index]\n",
    "\n",
    "            # Update the index of the trickle node after a swap for further trickling up if any\n",
    "            new_node_index = self.parent_index(new_node_index)\n",
    "\n",
    "    \n",
    "    def delete(self, value):\n",
    "        pass\n",
    "\n",
    "    # Use two other helper functions\n",
    "    # has greater child\n",
    "    # calculate larger child index \n",
    "        \n"
   ]
  }
 ],
 "metadata": {
  "interpreter": {
   "hash": "9e701872a5fca90495137aa5f0a5d6704dd437abc0d2ef78a5d3776bb088c5ad"
  },
  "kernelspec": {
   "display_name": "Python 3.9.6 64-bit",
   "name": "python3"
  },
  "language_info": {
   "name": "python",
   "version": ""
  },
  "orig_nbformat": 4
 },
 "nbformat": 4,
 "nbformat_minor": 2
}