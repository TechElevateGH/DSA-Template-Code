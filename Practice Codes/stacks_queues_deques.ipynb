{
 "cells": [
  {
   "cell_type": "code",
   "execution_count": 31,
   "metadata": {},
   "outputs": [],
   "source": [
    "class Stack(object):\n",
    "    \n",
    "    def __init__(self):\n",
    "        self.items = []\n",
    "        \n",
    "    def isEmpty(self):\n",
    "        return self.items == []\n",
    "    \n",
    "    def push(self, item):\n",
    "        self.items.append(item)\n",
    "        \n",
    "    def pop(self):\n",
    "        return self.items.pop()\n",
    "        \n",
    "    def peek(self):\n",
    "        return self.items[-1]\n",
    "    \n",
    "    def size(self):\n",
    "        return len(self.items)"
   ]
  },
  {
   "cell_type": "code",
   "execution_count": 10,
   "metadata": {},
   "outputs": [
    {
     "data": {
      "text/plain": [
       "3"
      ]
     },
     "execution_count": 10,
     "metadata": {},
     "output_type": "execute_result"
    }
   ],
   "source": [
    "class Queue(object):\n",
    "    \n",
    "    def __init__(self):\n",
    "        self.items = []\n",
    "        \n",
    "    def dequeue(self):\n",
    "        return self.pop()\n",
    "    \n",
    "    def enqueue(self, item):\n",
    "        return self.items.insert(0, item)\n",
    "    \n",
    "    def read(self):\n",
    "        if self.items != []:\n",
    "            return self.items[0]\n",
    "    \n",
    "    def size(self):\n",
    "        return len(self.items)\n",
    "    \n",
    "    def isEmpty(self):\n",
    "        return self.items == []\n",
    "    \n",
    "a = Queue()\n",
    "\n",
    "a.enqueue(3)\n",
    "a.read()\n",
    "    "
   ]
  },
  {
   "cell_type": "code",
   "execution_count": 3,
   "metadata": {},
   "outputs": [
    {
     "name": "stdout",
     "output_type": "stream",
     "text": [
      "True\n"
     ]
    }
   ],
   "source": [
    "class Stack(object):\n",
    "    \n",
    "    def __init__(self):\n",
    "        \n",
    "        self.data = []\n",
    "        \n",
    "    def pop(self):\n",
    "        return self.data.pop()\n",
    "    \n",
    "    def push(self, value):\n",
    "        self.data.append(value)\n",
    "    \n",
    "    def isEmpty(self):\n",
    "        return self.data == []\n",
    "\n",
    "\n",
    "def lint(s):\n",
    "    \n",
    "    start = ['[', '{', '(']\n",
    "    end = [']', '}', ')']\n",
    "    pair = set(zip(start, end))\n",
    "    \n",
    "    stack = Stack()\n",
    "    \n",
    "    for i in s:\n",
    "        \n",
    "        if i in start:\n",
    "            stack.push(i)\n",
    "        \n",
    "        elif i in end:\n",
    "            if stack.isEmpty():\n",
    "                return False\n",
    "        \n",
    "            else:\n",
    "                if tuple((stack.pop(), i)) not in pair:\n",
    "                    return False\n",
    "    \n",
    "    if not stack.isEmpty():\n",
    "        return False\n",
    "        \n",
    "    \n",
    "    return True\n",
    "\n",
    "print(lint('{(adadff{sfdjg})bj}'))\n",
    "            \n",
    "        "
   ]
  },
  {
   "cell_type": "code",
   "execution_count": null,
   "metadata": {},
   "outputs": [],
   "source": []
  }
 ],
 "metadata": {
  "interpreter": {
   "hash": "9e701872a5fca90495137aa5f0a5d6704dd437abc0d2ef78a5d3776bb088c5ad"
  },
  "kernelspec": {
   "display_name": "Python 3.9.6 64-bit",
   "name": "python3"
  },
  "language_info": {
   "name": "python",
   "version": ""
  }
 },
 "nbformat": 4,
 "nbformat_minor": 4
}