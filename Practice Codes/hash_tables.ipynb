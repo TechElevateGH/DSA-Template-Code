{
 "cells": [
  {
   "cell_type": "code",
   "execution_count": 1,
   "metadata": {},
   "outputs": [],
   "source": [
    "# Implementing a hash table\n",
    "# Hash entry is first implemented\n",
    "\n",
    "class HashEntry(object):\n",
    "    def __init__(self, key, value):\n",
    "        self.key = key\n",
    "        self.value = value\n",
    "        self.next = None\n",
    "\n",
    "# A hash table is a collection of hash entries\n",
    "# We will also keep track of the total number of slots in the hash table and the current size of the hash table. These two variables will come in handy when we need to resize the table.\n",
    "\n",
    "class HashTable(object):\n",
    "    def __init__(self):\n",
    "        # Size of the hash table\n",
    "        self.slots = 10\n",
    "        # Current entries in the table\n",
    "        # Used while resizing the table when half of the table gets filled\n",
    "        self.size = 0\n",
    "        # List of HashEntry objects (by default all None)\n",
    "        self.bucket = [None] * self.slots\n",
    "\n",
    "        # Helper Functions\n",
    "\n",
    "    def get_size(self):\n",
    "        return self.size\n",
    "    \n",
    "    def is_empty(self):\n",
    "        return self.get_size() == 0\n",
    "\n",
    "\n",
    "\n",
    "\n",
    "        \n",
    "        \n",
    "        \n",
    "        "
   ]
  },
  {
   "cell_type": "code",
   "execution_count": 2,
   "metadata": {},
   "outputs": [
    {
     "data": {
      "text/plain": [
       "[(1, 'a'), (2, 'b'), (4, 'c')]"
      ]
     },
     "execution_count": 2,
     "metadata": {},
     "output_type": "execute_result"
    }
   ],
   "source": [
    "a = ['(', , 4]\n",
    "b = ['a', 'b', 'c']\n",
    "\n",
    "list(zip(a, b))"
   ]
  },
  {
   "cell_type": "code",
   "execution_count": null,
   "metadata": {},
   "outputs": [],
   "source": [
    "def compare(s1, s2):\n",
    "    \n",
    "    larger = []\n",
    "    smaller = []\n",
    "    s_dict = {}\n",
    "    \n",
    "    \n",
    "    if len(s1) > len(s2):\n",
    "        larger = s1\n",
    "        smaller = s2\n",
    "    else:\n",
    "        larger = s2\n",
    "        smaller = s1\n",
    "    \n",
    "    for i in larger:\n",
    "        s_dict[i] = True\n",
    "    \n",
    "    for i in smaller:\n",
    "        if i not in s_dict:\n",
    "            return False\n",
    "    \n",
    "    return True\n",
    "\n",
    "print(compare(['a', 'b', 'c'], ['a', 'c']))"
   ]
  }
 ],
 "metadata": {
  "interpreter": {
   "hash": "b59f586909a095034ce92f267140d201ae05951e630cf0a096f13c3bfeef0a02"
  },
  "kernelspec": {
   "display_name": "Python 3.9.12 ('base')",
   "language": "python",
   "name": "python3"
  },
  "language_info": {
   "codemirror_mode": {
    "name": "ipython",
    "version": 3
   },
   "file_extension": ".py",
   "mimetype": "text/x-python",
   "name": "python",
   "nbconvert_exporter": "python",
   "pygments_lexer": "ipython3",
   "version": "3.9.12"
  },
  "orig_nbformat": 2
 },
 "nbformat": 4,
 "nbformat_minor": 2
}
