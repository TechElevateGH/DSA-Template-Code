{
 "cells": [
  {
   "cell_type": "code",
   "execution_count": 1,
   "metadata": {},
   "outputs": [],
   "source": [
    "def twoSumIndex(nums, target):\n",
    "    #use hashmap\n",
    "    pass"
   ]
  },
  {
   "cell_type": "code",
   "execution_count": 2,
   "metadata": {},
   "outputs": [],
   "source": [
    "def isPalindrome(n):\n",
    "    #use O(log(n))\n",
    "    #reverse half of the number\n",
    "    #half of the number is reversed when the reversed part is greater than the unreversed part.\n",
    "    #first deal with all test cases\n",
    "\n",
    "    pass"
   ]
  },
  {
   "cell_type": "code",
   "execution_count": 5,
   "metadata": {},
   "outputs": [],
   "source": [
    "'''\n",
    "Implement strStr().\n",
    "\n",
    "Return the index of the first occurrence of needle in haystack, or -1 if needle is not part of haystack.\n",
    "\n",
    "Clarification:\n",
    "\n",
    "What should we return when needle is an empty string? This is a great question to ask during an interview.\n",
    "\n",
    "For the purpose of this problem, we will return 0 when needle is an empty string. This is consistent to C's strstr() and Java's indexOf().\n",
    "\n",
    "'''\n",
    "\n",
    "pass"
   ]
  },
  {
   "cell_type": "code",
   "execution_count": 6,
   "metadata": {},
   "outputs": [],
   "source": [
    "'''\n",
    "Given a string s consists of some words separated by spaces, return the length of the last word in the string. If the last word does not exist, return 0.\n",
    "\n",
    "A word is a maximal substring consisting of non-space characters only.\n",
    "\n",
    "'''\n",
    "pass"
   ]
  },
  {
   "cell_type": "code",
   "execution_count": 2,
   "metadata": {},
   "outputs": [],
   "source": [
    "'''\n",
    "Given an integer numRows, return the first numRows of Pascal's triangle.\n",
    "\n",
    "In Pascal's triangle, each number is the sum of the two numbers directly above it as shown:\n",
    "\n",
    "'''\n",
    "pass\n"
   ]
  },
  {
   "cell_type": "code",
   "execution_count": null,
   "metadata": {},
   "outputs": [],
   "source": [
    "'''\n",
    "Given an integer n, return the number of trailing zeroes in n!.\n",
    "\n",
    "Follow up: Could you write a solution that works in logarithmic time complexity?\n",
    "\n",
    "'''\n"
   ]
  },
  {
   "cell_type": "code",
   "execution_count": 2,
   "metadata": {},
   "outputs": [
    {
     "name": "stdout",
     "output_type": "stream",
     "text": [
      "True\n"
     ]
    },
    {
     "data": {
      "text/plain": [
       "True"
      ]
     },
     "execution_count": 2,
     "metadata": {},
     "output_type": "execute_result"
    }
   ],
   "source": [
    "\n",
    "def increasing_triplet(arr):\n",
    "\n",
    "    '''\n",
    "        Using the greedy approach \n",
    "\n",
    "        The middle point was only established once we found a lower point before it.\n",
    "        Thus as soon as we reach a number higher than the middle point, we know there is an upward trend\n",
    "\n",
    "        Eg: [8, 9, 7, 10]\n",
    "    '''\n",
    "\n",
    "    least = arr[0]\n",
    "    mid = float('-inf')\n",
    "\n",
    "    for n in arr:\n",
    "\n",
    "        if n < least:\n",
    "            least = n\n",
    "        \n",
    "        elif n <= mid:\n",
    "            mid = n\n",
    "        \n",
    "        else:\n",
    "            return True\n",
    "    return False\n",
    "\n",
    "\n",
    "def increasing_triplet2(arr):\n",
    "    '''\n",
    "        Using 2 pointers\n",
    "    '''\n",
    "\n",
    "    j = len(arr) - 1\n",
    "    i = j - 1\n",
    "    count = 0\n",
    "    max_one = 0\n",
    "    \n",
    "    while i >= 0:\n",
    "        \n",
    "        if arr[j] > arr[i]:\n",
    "            \n",
    "            if arr[j] < max_one:\n",
    "                return True\n",
    "            if count == 0:\n",
    "                max_one = arr[j]\n",
    "                count += 1\n",
    "        \n",
    "        i -= 1\n",
    "        j -= 1\n",
    "    \n",
    "    return False\n",
    "\n",
    "print(increasing_triplet([22, 25, 18, 19.6, 24, 20.5]))\n",
    "increasing_triplet2([22, 25, 18, 19.6, 24, 20.5])"
   ]
  },
  {
   "cell_type": "code",
   "execution_count": 5,
   "metadata": {},
   "outputs": [
    {
     "data": {
      "text/plain": [
       "['a', 'a', 'a', 'c', 'c', 'c', 'd', 'd', 'd', 'b', 'b', 'b']"
      ]
     },
     "execution_count": 5,
     "metadata": {},
     "output_type": "execute_result"
    }
   ],
   "source": [
    "\n",
    "def group_sort(arr):\n",
    "\n",
    "    a_dict = {}\n",
    "    res = []\n",
    "\n",
    "    for i in arr:\n",
    "        if i not in a_dict:\n",
    "            a_dict[i] = 1\n",
    "        else:\n",
    "            a_dict[i] += 1\n",
    "\n",
    "    for i in a_dict:\n",
    "        row = [i] * a_dict[i]\n",
    "        res += row\n",
    "    \n",
    "    return res\n",
    "\n",
    "group_sort(['a', 'c', 'd', 'b', 'b', 'c', 'a', 'd', 'c', 'b', 'a', 'd'])\n",
    "    "
   ]
  },
  {
   "cell_type": "code",
   "execution_count": null,
   "metadata": {},
   "outputs": [],
   "source": [
    "\n",
    "def sum_swap(arr1, arr2):\n",
    "    '''\n",
    "        First array has greater sum the second array.\n",
    "        Which values should be swapped to equalize the arrays.\n",
    "    '''"
   ]
  }
 ],
 "metadata": {
  "interpreter": {
   "hash": "9e701872a5fca90495137aa5f0a5d6704dd437abc0d2ef78a5d3776bb088c5ad"
  },
  "kernelspec": {
   "display_name": "Python 3.9.6 64-bit",
   "name": "python3"
  },
  "language_info": {
   "codemirror_mode": {
    "name": "ipython",
    "version": 3
   },
   "file_extension": ".py",
   "mimetype": "text/x-python",
   "name": "python",
   "nbconvert_exporter": "python",
   "pygments_lexer": "ipython3",
   "version": "3.8.8"
  },
  "orig_nbformat": 2
 },
 "nbformat": 4,
 "nbformat_minor": 2
}