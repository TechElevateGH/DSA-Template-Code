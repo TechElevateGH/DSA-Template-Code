{
 "cells": [
  {
   "cell_type": "code",
   "execution_count": 1,
   "metadata": {},
   "outputs": [],
   "source": [
    "\n",
    "\n",
    "def large_cont_sum(num_list):\n",
    "    \n",
    "    if len(num_list) == 0:\n",
    "        return None\n",
    "    \n",
    "    max_sum = num_list[0]\n",
    "    curr_sum = num_list[0]\n",
    "    \n",
    "    for num in num_list[1:]:\n",
    "        \n",
    "        curr_sum = max(curr_sum+num, num)\n",
    "        max_sum = max(curr_sum, max_sum)\n",
    "        \n",
    "    return max_sum\n",
    "\n",
    "[-2,1,-3,4,-1,2,1,-5,4]"
   ]
  },
  {
   "cell_type": "code",
   "execution_count": 3,
   "metadata": {},
   "outputs": [
    {
     "data": {
      "text/plain": [
       "-3"
      ]
     },
     "execution_count": 3,
     "metadata": {},
     "output_type": "execute_result"
    }
   ],
   "source": [
    "large_cont_sum([-3])"
   ]
  },
  {
   "cell_type": "code",
   "execution_count": 10,
   "metadata": {},
   "outputs": [
    {
     "name": "stdout",
     "output_type": "stream",
     "text": [
      "best the is This \n"
     ]
    }
   ],
   "source": [
    "def reverse(s):\n",
    "    \n",
    "    pos = s.find(' ')\n",
    "    \n",
    "    if pos == -1:\n",
    "        return (s)\n",
    "    \n",
    "    left = reverse(s[:pos])\n",
    "    right = reverse(s[pos:].strip())\n",
    "    \n",
    "    return right.strip() + ' ' + left.strip()\n",
    "\n",
    "\n",
    "\n"
   ]
  },
  {
   "cell_type": "code",
   "execution_count": 11,
   "metadata": {},
   "outputs": [
    {
     "data": {
      "text/plain": [
       "'Home Coming'"
      ]
     },
     "execution_count": 11,
     "metadata": {},
     "output_type": "execute_result"
    }
   ],
   "source": [
    "reverse('Coming Home')"
   ]
  },
  {
   "cell_type": "code",
   "execution_count": 13,
   "metadata": {},
   "outputs": [],
   "source": [
    "\n",
    "def compressAll(s):\n",
    "    \n",
    "    res = {}\n",
    "    res_str = ''\n",
    "    \n",
    "    for i in s:\n",
    "        \n",
    "        if i in res:\n",
    "            res[i] += 1\n",
    "        else:\n",
    "            res[i] = 1\n",
    "    \n",
    "    for i in res:\n",
    "        res_str = res_str + i + str(res[i])\n",
    "        \n",
    "    return res_str\n",
    "    "
   ]
  },
  {
   "cell_type": "code",
   "execution_count": 14,
   "metadata": {},
   "outputs": [
    {
     "data": {
      "text/plain": [
       "'A3a4'"
      ]
     },
     "execution_count": 14,
     "metadata": {},
     "output_type": "execute_result"
    }
   ],
   "source": [
    "compress('AAAaaaa')"
   ]
  },
  {
   "cell_type": "code",
   "execution_count": 15,
   "metadata": {},
   "outputs": [],
   "source": [
    "\n",
    "def compress(s):\n",
    "    \n",
    "    res = ''\n",
    "    res_str = ''\n",
    "    count = 1\n",
    "    \n",
    "    for i in range(1, len(s)):\n",
    "        letter = s[i]\n",
    "        if s[i] == s[i-1]:\n",
    "            count += 1 \n",
    "            \n",
    "        else:\n",
    "            res = res + s[i-1] + str(count)\n",
    "            count = 1\n",
    "            \n",
    "    \n",
    "    \n",
    "    return res + s[-1] + str(count)\n",
    "    "
   ]
  },
  {
   "cell_type": "code",
   "execution_count": 16,
   "metadata": {},
   "outputs": [
    {
     "data": {
      "text/plain": [
       "'t1e1l2 1t1h1e1 1w1o1r1l1d1 1t1h1a1t1 1I1 1a1m1 1c1o1m1i1n1g1 1h1o1m1e1'"
      ]
     },
     "execution_count": 16,
     "metadata": {},
     "output_type": "execute_result"
    }
   ],
   "source": [
    "compress('tell the world that I am coming home')"
   ]
  },
  {
   "cell_type": "code",
   "execution_count": 1,
   "metadata": {},
   "outputs": [
    {
     "data": {
      "text/plain": [
       "(7, 3)"
      ]
     },
     "execution_count": 1,
     "metadata": {},
     "output_type": "execute_result"
    }
   ],
   "source": [
    "import math\n",
    "nums = [2, 7, 4, 6, 3, 9]\n",
    "\n",
    "def find_swap(nums):\n",
    "    x = y = math.inf\n",
    "\n",
    "    for i in range(len(nums) - 1):\n",
    "\n",
    "        if nums[i] > nums[i+1]:\n",
    "\n",
    "            y = nums[i+1]\n",
    "\n",
    "            if x == math.inf:\n",
    "                x = nums[i]\n",
    "    \n",
    "    return x, y\n",
    "\n",
    "find_swap(nums)\n",
    "\n"
   ]
  },
  {
   "cell_type": "code",
   "execution_count": null,
   "metadata": {},
   "outputs": [],
   "source": []
  }
 ],
 "metadata": {
  "interpreter": {
   "hash": "dca0ade3e726a953b501b15e8e990130d2b7799f14cfd9f4271676035ebe5511"
  },
  "kernelspec": {
   "display_name": "Python 3.8.8 64-bit ('base': conda)",
   "name": "python3"
  },
  "language_info": {
   "name": "python",
   "version": ""
  }
 },
 "nbformat": 4,
 "nbformat_minor": 4
}