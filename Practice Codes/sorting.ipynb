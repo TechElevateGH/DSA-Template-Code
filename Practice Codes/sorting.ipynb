{
 "metadata": {
  "language_info": {
   "codemirror_mode": {
    "name": "ipython",
    "version": 3
   },
   "file_extension": ".py",
   "mimetype": "text/x-python",
   "name": "python",
   "nbconvert_exporter": "python",
   "pygments_lexer": "ipython3",
   "version": "3.8.5"
  },
  "orig_nbformat": 2,
  "kernelspec": {
   "name": "python3",
   "display_name": "Python 3",
   "language": "python"
  }
 },
 "nbformat": 4,
 "nbformat_minor": 2,
 "cells": [
  {
   "cell_type": "code",
   "execution_count": 4,
   "metadata": {},
   "outputs": [
    {
     "output_type": "execute_result",
     "data": {
      "text/plain": [
       "[2, 3, 3, 5, 7]"
      ]
     },
     "metadata": {},
     "execution_count": 4
    }
   ],
   "source": [
    "\n",
    "def bubble_sort(alist):\n",
    "\n",
    "    unsorted_until_index = len(alist) - 1.  #keeps track of the rightmost index of the array that has not been sorted\n",
    "    is_sorted = False. #keeps track of whether the array is fully sorted\n",
    "\n",
    "    while not is_sorted:\n",
    "        is_sorted = True\n",
    "\n",
    "        for j in range(unsorted_until_index):\n",
    "\n",
    "            if alist[j + 1] < alist[j]:\n",
    "                temp = alist[j + 1]\n",
    "                alist[j + 1] = alist[j]\n",
    "                alist[j] = temp\n",
    "\n",
    "                is_sorted = False\n",
    "        \n",
    "        unsorted_until_index -= 1\n",
    "        \n",
    "    return alist\n",
    "\n",
    "\n",
    "bubble_sort([3, 3, 5, 2, 7])\n",
    "\n",
    "\n"
   ]
  },
  {
   "cell_type": "code",
   "execution_count": 19,
   "metadata": {},
   "outputs": [
    {
     "output_type": "execute_result",
     "data": {
      "text/plain": [
       "True"
      ]
     },
     "metadata": {},
     "execution_count": 19
    }
   ],
   "source": [
    "\n",
    "\n",
    "def rem_duplicate(alist):\n",
    "    alist_dict = {}\n",
    "\n",
    "    for i in alist:\n",
    "        if i not in alist_dict:\n",
    "            alist_dict[i] = 1\n",
    "        else:\n",
    "            return True\n",
    "\n",
    "    return False\n",
    "\n",
    "rem_duplicate([1, 1, 5, 3, 4])\n",
    "\n"
   ]
  },
  {
   "cell_type": "code",
   "execution_count": 26,
   "metadata": {},
   "outputs": [
    {
     "output_type": "execute_result",
     "data": {
      "text/plain": [
       "[1, 2, 2, 4, 9, 11]"
      ]
     },
     "metadata": {},
     "execution_count": 26
    }
   ],
   "source": [
    "\n",
    "def selection_sort(alist):\n",
    "\n",
    "    for i in range(len(alist)):\n",
    "        lowest_index = i\n",
    "\n",
    "        for j in range(i + 1, len(alist)):      #j starts from the element at the index after i\n",
    "\n",
    "            if alist[j] < alist[lowest_index]:  #alist[j] is compared with the element at the lowest_index and not at i\n",
    "                lowest_index = j\n",
    "\n",
    "        if i != lowest_index:\n",
    "            temp = alist[i]\n",
    "            alist[i] = alist[lowest_index]\n",
    "            alist[lowest_index] = temp\n",
    "\n",
    "    return alist\n",
    "\n",
    "selection_sort([11, 9, 1, 2, 4, 2]) "
   ]
  },
  {
   "cell_type": "code",
   "execution_count": null,
   "metadata": {},
   "outputs": [],
   "source": []
  }
 ]
}