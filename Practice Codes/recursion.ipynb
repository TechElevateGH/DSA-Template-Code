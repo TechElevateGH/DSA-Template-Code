{
 "cells": [
  {
   "cell_type": "code",
   "execution_count": 1,
   "metadata": {},
   "outputs": [
    {
     "name": "stdout",
     "output_type": "stream",
     "text": [
      "['abc', 'bac', 'bca', 'acb', 'cab', 'cba']\n"
     ]
    }
   ],
   "source": [
    "def anagram_gen(s):\n",
    "    \n",
    "    collection = []\n",
    "    \n",
    "    if len(s) == 1:\n",
    "        collection.append(s)\n",
    "        return collection\n",
    "        \n",
    "    substring = anagram_gen(s[1:])\n",
    "    \n",
    "    for i in substring:\n",
    "        \n",
    "        for j in range(len(i) + 1):\n",
    "            new_str = i[:j] + s[0] + i[j:]\n",
    "            \n",
    "            collection.append(new_str)\n",
    "            \n",
    "    return collection\n",
    "    \n",
    "print(anagram_gen('abc'))\n",
    "        "
   ]
  },
  {
   "cell_type": "code",
   "execution_count": null,
   "metadata": {},
   "outputs": [],
   "source": [
    "\n",
    "def rev(s):\n",
    "    \n",
    "    if len(s) == 1:\n",
    "        return s\n",
    "    \n",
    "    return rev(s[1:]) + s[0]\n",
    "    \n",
    "\n",
    "print(rev('Cornelius'))\n",
    "\n",
    "# a b c\n",
    "\n",
    "# b c"
   ]
  }
 ],
 "metadata": {
  "kernelspec": {
   "display_name": "Python 3",
   "language": "python",
   "name": "python3"
  },
  "language_info": {
   "codemirror_mode": {
    "name": "ipython",
    "version": 3
   },
   "file_extension": ".py",
   "mimetype": "text/x-python",
   "name": "python",
   "nbconvert_exporter": "python",
   "pygments_lexer": "ipython3",
   "version": "3.8.5"
  }
 },
 "nbformat": 4,
 "nbformat_minor": 4
}
