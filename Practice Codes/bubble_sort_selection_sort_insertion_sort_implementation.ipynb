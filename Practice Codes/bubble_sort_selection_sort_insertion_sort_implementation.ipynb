{
 "cells": [
  {
   "cell_type": "code",
   "execution_count": 4,
   "metadata": {},
   "outputs": [
    {
     "name": "stdout",
     "output_type": "stream",
     "text": [
      "[4, 5, 7, 12, 34, 34]\n"
     ]
    }
   ],
   "source": [
    "def bubble_sort(alist):\n",
    "    #Two major steps: comparison and swapping\n",
    "    \n",
    "    unsorted_until_index = len(alist) - 1\n",
    "    is_sorted = False\n",
    "    \n",
    "    while not is_sorted:\n",
    "        is_sorted = True\n",
    "        \n",
    "        for i in range(unsorted_until_index):\n",
    "            \n",
    "            if alist[i] > alist[i+1]:\n",
    "                temp = alist[i]\n",
    "                alist[i] = alist[i+1]\n",
    "                alist[i+1] = temp\n",
    "                \n",
    "                is_sorted = False\n",
    "            \n",
    "        unsorted_until_index -= 1\n",
    "        \n",
    "    return alist\n",
    "\n",
    "print(bubble_sort([4, 34, 12 ,5, 7, 34]))"
   ]
  },
  {
   "cell_type": "code",
   "execution_count": 25,
   "metadata": {},
   "outputs": [
    {
     "data": {
      "text/plain": [
       "[3, 4, 5, 7, 12, 94]"
      ]
     },
     "execution_count": 25,
     "metadata": {},
     "output_type": "execute_result"
    }
   ],
   "source": [
    "def selection_sort(alist):\n",
    "    start = 0\n",
    "    is_sorted = False\n",
    "    \n",
    "    while not is_sorted:\n",
    "        is_sorted = True\n",
    "        \n",
    "        for i in range(start, len(alist)-1):\n",
    "            lowest_index = start\n",
    "            \n",
    "            for i in range(start, len(alist)):\n",
    "                if alist[i] < alist[lowest_index]:\n",
    "                    lowest_index = i\n",
    "                    \n",
    "            if (start != lowest_index):\n",
    "                temp = alist[start]\n",
    "                alist[start] = alist[lowest_index]\n",
    "                alist[lowest_index] = temp\n",
    "                \n",
    "                is_sorted = False\n",
    "        \n",
    "            start += 1\n",
    "            \n",
    "        return alist\n",
    "    \n",
    "selection_sort([4, 94, 12 ,5, 7, 3])"
   ]
  },
  {
   "cell_type": "code",
   "execution_count": 26,
   "metadata": {},
   "outputs": [
    {
     "data": {
      "text/plain": [
       "[1, 1, 2, 3, 4, 5, 12, 34, 36, 56, 65]"
      ]
     },
     "execution_count": 26,
     "metadata": {},
     "output_type": "execute_result"
    }
   ],
   "source": [
    "def insertion_sort(alist):\n",
    "   \n",
    "    for i in range(len(alist) - 1):\n",
    "        i += 1\n",
    "    \n",
    "        while i >= 1:\n",
    "            \n",
    "            if alist[i] < alist[i - 1]:\n",
    "                temp = alist[i-1]\n",
    "                alist[i-1] = alist[i]\n",
    "                alist[i] = temp\n",
    "            else:\n",
    "                break\n",
    "               \n",
    "            i -= 1\n",
    "            \n",
    "    return alist\n",
    "\n",
    "insertion_sort([4, 1, 12 ,5, 3, 34, 2, 1, 56, 65, 36])   "
   ]
  },
  {
   "cell_type": "code",
   "execution_count": null,
   "metadata": {},
   "outputs": [],
   "source": []
  }
 ],
 "metadata": {
  "kernelspec": {
   "display_name": "Python 3",
   "language": "python",
   "name": "python3"
  },
  "language_info": {
   "codemirror_mode": {
    "name": "ipython",
    "version": 3
   },
   "file_extension": ".py",
   "mimetype": "text/x-python",
   "name": "python",
   "nbconvert_exporter": "python",
   "pygments_lexer": "ipython3",
   "version": "3.8.5"
  }
 },
 "nbformat": 4,
 "nbformat_minor": 4
}
